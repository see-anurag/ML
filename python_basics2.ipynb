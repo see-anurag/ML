{
 "cells": [
  {
   "cell_type": "markdown",
   "metadata": {},
   "source": [
    "### Lists"
   ]
  },
  {
   "cell_type": "code",
   "execution_count": 1,
   "metadata": {},
   "outputs": [
    {
     "name": "stdout",
     "output_type": "stream",
     "text": [
      "[1, 2, 3, 4, 5, 6]\n",
      "[[1, 2, 3], [4, 6, 7], [8, 9, 10]]\n"
     ]
    }
   ],
   "source": [
    "vector = [1, 2, 3, 4, 5, 6]\n",
    "print(vector)\n",
    "matrix = [[1,2,3],[4,6,7],[8,9,10]]\n",
    "print(matrix)"
   ]
  },
  {
   "cell_type": "code",
   "execution_count": 19,
   "metadata": {},
   "outputs": [
    {
     "name": "stdout",
     "output_type": "stream",
     "text": [
      "[1, 2, 10, 10, 3, 4, 5, 10, 6, 55, 55]\n",
      "[1, 2, 10, 10, 3, 4, 5, 10, 6, 55, 55, 55]\n",
      "[1, 2, 10, 10, 10, 3, 4, 5, 10, 6, 55, 55, 55]\n"
     ]
    }
   ],
   "source": [
    "print(vector)\n",
    "vector.append(55)\n",
    "print (vector)\n",
    "vector.insert(2, 10)\n",
    "print (vector)"
   ]
  },
  {
   "cell_type": "code",
   "execution_count": 21,
   "metadata": {},
   "outputs": [
    {
     "name": "stdout",
     "output_type": "stream",
     "text": [
      "0 + 1 = 1\n",
      "1 + 2 = 3\n",
      "3 + 10 = 13\n",
      "13 + 10 = 23\n",
      "23 + 10 = 33\n",
      "33 + 3 = 36\n",
      "36 + 4 = 40\n",
      "40 + 5 = 45\n",
      "45 + 10 = 55\n",
      "55 + 6 = 61\n",
      "61 + 55 = 116\n",
      "116 + 55 = 171\n",
      "171 + 55 = 226\n"
     ]
    }
   ],
   "source": [
    "sum_all=0\n",
    "for x in vector:\n",
    "    print (\"%d + %d = %d\" %(sum_all,x,sum_all+x))\n",
    "    sum_all+=x"
   ]
  },
  {
   "cell_type": "markdown",
   "metadata": {},
   "source": [
    "### Dictionaries"
   ]
  },
  {
   "cell_type": "code",
   "execution_count": 24,
   "metadata": {
    "collapsed": true
   },
   "outputs": [],
   "source": [
    "student = {\n",
    "    'Python' : 'A',\n",
    "    'C++' : 'B',\n",
    "    'Java' : 'A',\n",
    "}"
   ]
  },
  {
   "cell_type": "code",
   "execution_count": 26,
   "metadata": {},
   "outputs": [
    {
     "name": "stdout",
     "output_type": "stream",
     "text": [
      "keys in Dictionary:  dict_keys(['Python', 'C++', 'Java']) \n",
      "Values in Dictionary:  dict_values(['A', 'B', 'A'])\n"
     ]
    }
   ],
   "source": [
    "print (\"keys in Dictionary: \",student.keys(),\"\\nValues in Dictionary: \",student.values())"
   ]
  },
  {
   "cell_type": "code",
   "execution_count": 28,
   "metadata": {},
   "outputs": [
    {
     "name": "stdout",
     "output_type": "stream",
     "text": [
      "Student obtained:\n",
      "A in Python\n",
      "B in C++\n",
      "A in Java\n"
     ]
    }
   ],
   "source": [
    "print(\"Student obtained:\")\n",
    "for x in student:\n",
    "    print(student[x],\"in\",x)"
   ]
  },
  {
   "cell_type": "markdown",
   "metadata": {},
   "source": [
    "### Classes"
   ]
  },
  {
   "cell_type": "code",
   "execution_count": 32,
   "metadata": {
    "collapsed": true
   },
   "outputs": [],
   "source": [
    "class Employee:    \n",
    "    def __init__(self, name, dob, email, mobile, address):\n",
    "        self.name = name\n",
    "        self.dob = dob\n",
    "        self.email = email\n",
    "        self.mobile = mobile\n",
    "        self.address = address"
   ]
  },
  {
   "cell_type": "code",
   "execution_count": 33,
   "metadata": {
    "collapsed": true
   },
   "outputs": [],
   "source": [
    "emp1 = Employee('Anurag', '05-Nov-1998', 'sanurag2552@gmail.com', '1234567890', \"IMS, Ghaziabad\")\n",
    "emp2 = Employee('XYZ', '21-Oct-1997', 'xyz@gmail.com', '8029314756', \"GNIOT, Noida\")\n",
    "emp3 = Employee('Mayank', '03-Dec-1995', 'Mayank@gmail.com', '6854712390', \"xyz colony, Palawal\")"
   ]
  },
  {
   "cell_type": "code",
   "execution_count": 38,
   "metadata": {},
   "outputs": [
    {
     "name": "stdout",
     "output_type": "stream",
     "text": [
      "Anurag 05-Nov-1998 1234567890 IMS, Ghaziabad\n",
      "Anurag 05-Nov-1998 1234567890 IMS, Ghaziabad\n",
      "Anurag 05-Nov-1998 1234567890 IMS, Ghaziabad\n"
     ]
    }
   ],
   "source": [
    "list1 = [emp1,emp2, emp3]\n",
    "for x in list1:\n",
    "    print(emp1.name,emp1.dob,emp1.mobile,emp1.address)"
   ]
  },
  {
   "cell_type": "markdown",
   "metadata": {},
   "source": [
    "### Functions"
   ]
  },
  {
   "cell_type": "code",
   "execution_count": 17,
   "metadata": {
    "collapsed": true
   },
   "outputs": [],
   "source": [
    "def is_prime(x):\n",
    "    for i in range(2, int(x**(0.5)) + 1):\n",
    "        if x%i == 0:\n",
    "            return False\n",
    "    return True"
   ]
  },
  {
   "cell_type": "code",
   "execution_count": 18,
   "metadata": {},
   "outputs": [
    {
     "name": "stdout",
     "output_type": "stream",
     "text": [
      "True\n"
     ]
    }
   ],
   "source": [
    "print is_prime(5)"
   ]
  },
  {
   "cell_type": "code",
   "execution_count": 19,
   "metadata": {},
   "outputs": [
    {
     "name": "stdout",
     "output_type": "stream",
     "text": [
      "False\n"
     ]
    }
   ],
   "source": [
    "print is_prime(15)"
   ]
  }
 ],
 "metadata": {
  "kernelspec": {
   "display_name": "Python 3",
   "language": "python",
   "name": "python3"
  },
  "language_info": {
   "codemirror_mode": {
    "name": "ipython",
    "version": 3
   },
   "file_extension": ".py",
   "mimetype": "text/x-python",
   "name": "python",
   "nbconvert_exporter": "python",
   "pygments_lexer": "ipython3",
   "version": "3.6.3"
  }
 },
 "nbformat": 4,
 "nbformat_minor": 2
}
