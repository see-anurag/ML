{
 "cells": [
  {
   "cell_type": "markdown",
   "metadata": {},
   "source": [
    "#### Print in python"
   ]
  },
  {
   "cell_type": "code",
   "execution_count": 11,
   "metadata": {},
   "outputs": [
    {
     "name": "stdout",
     "output_type": "stream",
     "text": [
      "Anurag Shakya\n",
      "That's how we print with escape operator\n"
     ]
    }
   ],
   "source": [
    "print (\"Anurag Shakya\")\n",
    "print ('That\\'s how we print with escape operator')"
   ]
  },
  {
   "cell_type": "code",
   "execution_count": 61,
   "metadata": {},
   "outputs": [
    {
     "name": "stdout",
     "output_type": "stream",
     "text": [
      "enter your name:Anurag $hakya\n",
      "age: 21\n",
      "height: 178\n",
      "weight: 65.2\n",
      "Adhaar No.: None\n"
     ]
    }
   ],
   "source": [
    "bio_data=[]\n",
    "bio_data[0:5]= input(\"enter your name:\" ), input(\"age: \"), input(\"height: \"), input(\"weight: \"), input(\"Adhaar No.: \")"
   ]
  },
  {
   "cell_type": "code",
   "execution_count": 44,
   "metadata": {},
   "outputs": [
    {
     "data": {
      "text/plain": [
       "list"
      ]
     },
     "execution_count": 44,
     "metadata": {},
     "output_type": "execute_result"
    }
   ],
   "source": [
    "type(bio_data)"
   ]
  },
  {
   "cell_type": "markdown",
   "metadata": {},
   "source": [
    "### Control statements\n",
    "    "
   ]
  },
  {
   "cell_type": "markdown",
   "metadata": {},
   "source": [
    "####     1) if-elif-else"
   ]
  },
  {
   "cell_type": "code",
   "execution_count": 46,
   "metadata": {},
   "outputs": [
    {
     "name": "stdout",
     "output_type": "stream",
     "text": [
      "can you speak python?\n"
     ]
    }
   ],
   "source": [
    "if bio_data is 0:\n",
    "    print(\"bio data is empty\")\n",
    "elif int(bio_data[1]) <= 10:\n",
    "    print(\"enjoy!\")\n",
    "else:\n",
    "    print(\"can you speak python?\")    "
   ]
  },
  {
   "cell_type": "markdown",
   "metadata": {},
   "source": [
    "#### 2) for loop"
   ]
  },
  {
   "cell_type": "code",
   "execution_count": 50,
   "metadata": {},
   "outputs": [
    {
     "name": "stdout",
     "output_type": "stream",
     "text": [
      "Anurag $hakya\n",
      "21\n",
      "178 cms\n",
      "65.5\n",
      "None\n"
     ]
    }
   ],
   "source": [
    "for x in bio_data:\n",
    "    print(x);    "
   ]
  },
  {
   "cell_type": "markdown",
   "metadata": {},
   "source": [
    "#### ------------------------------------------------------------------"
   ]
  },
  {
   "cell_type": "code",
   "execution_count": 62,
   "metadata": {},
   "outputs": [
    {
     "name": "stdout",
     "output_type": "stream",
     "text": [
      "['Anurag $hakya', '21', '178', '65.2', 'None']\n",
      "['178', '21', '65.2', 'Anurag $hakya', 'None']\n",
      "['None', 'Anurag $hakya', '65.2', '21', '178']\n"
     ]
    }
   ],
   "source": [
    "len(bio_data)\n",
    "print(bio_data)\n",
    "\n",
    "bio_data.sort()\n",
    "print(bio_data)\n",
    "\n",
    "bio_data.reverse()\n",
    "print(bio_data)"
   ]
  }
 ],
 "metadata": {
  "kernelspec": {
   "display_name": "Python 3",
   "language": "python",
   "name": "python3"
  },
  "language_info": {
   "codemirror_mode": {
    "name": "ipython",
    "version": 3
   },
   "file_extension": ".py",
   "mimetype": "text/x-python",
   "name": "python",
   "nbconvert_exporter": "python",
   "pygments_lexer": "ipython3",
   "version": "3.6.3"
  }
 },
 "nbformat": 4,
 "nbformat_minor": 2
}
